{
 "cells": [
  {
   "cell_type": "markdown",
   "metadata": {},
   "source": [
    "# load python libraries "
   ]
  },
  {
   "cell_type": "code",
   "execution_count": 1,
   "metadata": {
    "ExecuteTime": {
     "end_time": "2016-07-26T16:31:41.150106",
     "start_time": "2016-07-26T16:31:40.481219"
    },
    "collapsed": false,
    "scrolled": false
   },
   "outputs": [],
   "source": [
    "%matplotlib inline\n",
    "\n",
    "from ipywidgets import interact, interactive, IntSlider, FloatSlider\n",
    "from IPython.display import clear_output, display, HTML\n",
    "\n",
    "from numpy import *\n",
    "from scipy import integrate\n",
    "\n",
    "from matplotlib import pyplot as plt\n",
    "from mpl_toolkits.mplot3d import Axes3D\n",
    "from matplotlib.colors import cnames\n",
    "from matplotlib import animation"
   ]
  },
  {
   "cell_type": "markdown",
   "metadata": {
    "heading_collapsed": true
   },
   "source": [
    "# interactive Exposure"
   ]
  },
  {
   "cell_type": "code",
   "execution_count": 3,
   "metadata": {
    "ExecuteTime": {
     "end_time": "2016-07-26T16:26:17.916164",
     "start_time": "2016-07-26T16:26:17.890192"
    },
    "collapsed": true,
    "hidden": true
   },
   "outputs": [],
   "source": [
    "years = arange(0,101,1)\n",
    "\n",
    "def Exposure(maximal_consumption, age_of_onset, age_of_quitting,\n",
    "             time_to_max_exposure, time_to_complete_quitting):\n",
    "    \n",
    "    sigma_1 = time_to_max_exposure / 4 # (years) duration of the transition from no-smoking to smoking\n",
    "    sigma_2 = time_to_complete_quitting / 4 # (years) duration of the transition from smoking to no-smoking\n",
    "    t_1 = age_of_onset + 2 * sigma_1 # (years) time to 50% of maximal exposure after starting to smoke\n",
    "    t_2 = age_of_quitting - 2 * sigma_1 # (years) time to 50% of maximal exposure when quitting\n",
    "    \n",
    "    def value(years, maximal_consumption,\n",
    "               time_to_complete_quitting, age_of_quitting, \n",
    "               sigma_1, sigma_2, t_1, t_2):        \n",
    "        if (time_to_complete_quitting == 130 | age_of_quitting == 130):\n",
    "            return maximal_consumption * (1 / ( 1+exp( -(years-t_1)/sigma_1 ) ))  \n",
    "        else:\n",
    "            return maximal_consumption *  (1 / ( 1+exp( -(years-t_1)/sigma_1 ) )) * (1 / ( 1+exp(  (years-t_2)/sigma_2 ) )) \n",
    "  \n",
    "    values = value(years, maximal_consumption,\n",
    "               time_to_complete_quitting, age_of_quitting, \n",
    "               sigma_1, sigma_2, t_1, t_2)\n",
    "    \n",
    "    plt.plot(years, values)    \n",
    "    plt.show()\n",
    "    return years, values"
   ]
  },
  {
   "cell_type": "code",
   "execution_count": 4,
   "metadata": {
    "ExecuteTime": {
     "end_time": "2016-07-26T16:26:19.048841",
     "start_time": "2016-07-26T16:26:18.734842"
    },
    "code_folding": [],
    "collapsed": false,
    "hidden": true,
    "scrolled": false
   },
   "outputs": [
    {
     "data": {
      "image/png": "[encoded data removed]",
      "text/plain": [
       "<matplotlib.figure.Figure at 0x7fd17e0a8be0>"
      ]
     },
     "metadata": {},
     "output_type": "display_data"
    },
    {
     "data": {
      "text/plain": [
       "(array([  0,   1,   2,   3,   4,   5,   6,   7,   8,   9,  10,  11,  12,\n",
       "         13,  14,  15,  16,  17,  18,  19,  20,  21,  22,  23,  24,  25,\n",
       "         26,  27,  28,  29,  30,  31,  32,  33,  34,  35,  36,  37,  38,\n",
       "         39,  40,  41,  42,  43,  44,  45,  46,  47,  48,  49,  50,  51,\n",
       "         52,  53,  54,  55,  56,  57,  58,  59,  60,  61,  62,  63,  64,\n",
       "         65,  66,  67,  68,  69,  70,  71,  72,  73,  74,  75,  76,  77,\n",
       "         78,  79,  80,  81,  82,  83,  84,  85,  86,  87,  88,  89,  90,\n",
       "         91,  92,  93,  94,  95,  96,  97,  98,  99, 100]),\n",
       " array([  1.24729204e-06,   2.77589666e-06,   6.17785762e-06,\n",
       "          1.37490056e-05,   3.05986309e-05,   6.80968031e-05,\n",
       "          1.51543791e-04,   3.37225155e-04,   7.50301661e-04,\n",
       "          1.66880405e-03,   3.70893473e-03,   8.22944835e-03,\n",
       "          1.81926525e-02,   3.98954904e-02,   8.59862638e-02,\n",
       "          1.78804383e-01,   3.47212825e-01,   6.01968510e-01,\n",
       "          8.98031490e-01,   1.15278718e+00,   1.32119562e+00,\n",
       "          1.41401374e+00,   1.46010451e+00,   1.48180735e+00,\n",
       "          1.49177055e+00,   1.49629107e+00,   1.49833120e+00,\n",
       "          1.49924970e+00,   1.49966277e+00,   1.49984846e+00,\n",
       "          1.49993190e+00,   1.49996940e+00,   1.49998625e+00,\n",
       "          1.49999382e+00,   1.49999722e+00,   1.49999875e+00,\n",
       "          1.49999944e+00,   1.49999975e+00,   1.49999989e+00,\n",
       "          1.49999995e+00,   1.49999998e+00,   1.49999999e+00,\n",
       "          1.50000000e+00,   1.50000000e+00,   1.50000000e+00,\n",
       "          1.50000000e+00,   1.50000000e+00,   1.50000000e+00,\n",
       "          1.50000000e+00,   1.50000000e+00,   1.50000000e+00,\n",
       "          1.50000000e+00,   1.50000000e+00,   1.50000000e+00,\n",
       "          1.50000000e+00,   1.50000000e+00,   1.50000000e+00,\n",
       "          1.50000000e+00,   1.50000000e+00,   1.50000000e+00,\n",
       "          1.50000000e+00,   1.50000000e+00,   1.50000000e+00,\n",
       "          1.50000000e+00,   1.50000000e+00,   1.50000000e+00,\n",
       "          1.50000000e+00,   1.50000000e+00,   1.50000000e+00,\n",
       "          1.50000000e+00,   1.50000000e+00,   1.50000000e+00,\n",
       "          1.50000000e+00,   1.50000000e+00,   1.50000000e+00,\n",
       "          1.50000000e+00,   1.50000000e+00,   1.50000000e+00,\n",
       "          1.50000000e+00,   1.50000000e+00,   1.50000000e+00,\n",
       "          1.50000000e+00,   1.50000000e+00,   1.50000000e+00,\n",
       "          1.50000000e+00,   1.50000000e+00,   1.50000000e+00,\n",
       "          1.50000000e+00,   1.50000000e+00,   1.50000000e+00,\n",
       "          1.50000000e+00,   1.50000000e+00,   1.50000000e+00,\n",
       "          1.50000000e+00,   1.50000000e+00,   1.50000000e+00,\n",
       "          1.50000000e+00,   1.50000000e+00,   1.50000000e+00,\n",
       "          1.50000000e+00,   1.50000000e+00]))"
      ]
     },
     "metadata": {},
     "output_type": "display_data"
    }
   ],
   "source": [
    "E = interactive(Exposure, \n",
    "                age_of_onset = IntSlider(min=5,max=50,step=1,value=15), # years\n",
    "                maximal_consumption = FloatSlider(min=0.1,max=5,step=0.1,value=1.5), # packs/day\n",
    "                time_to_max_exposure = IntSlider(min=1,max=20,step=1,value=5), # years\n",
    "                age_of_quitting = IntSlider(min=5,max=130,step=1,value=130), # years, 130 is non-quitter\n",
    "                time_to_complete_quitting = IntSlider(min=5,max=130,step=1,value=130), # years, 130 is non-quitter\n",
    "               )\n",
    "display(E)\n",
    "E_arguments = E.kwargs\n",
    "years, E_values = E.result"
   ]
  },
  {
   "cell_type": "markdown",
   "metadata": {
    "collapsed": true
   },
   "source": [
    "# non interactive EA"
   ]
  },
  {
   "cell_type": "code",
   "execution_count": 2,
   "metadata": {
    "ExecuteTime": {
     "end_time": "2016-07-26T16:31:45.724753",
     "start_time": "2016-07-26T16:31:45.569134"
    },
    "collapsed": false
   },
   "outputs": [
    {
     "data": {
      "text/plain": [
       "0"
      ]
     },
     "metadata": {},
     "output_type": "display_data"
    }
   ],
   "source": [
    "def Exposure(maximal_consumption, age_of_onset, age_of_quitting,\n",
    "             time_to_max_exposure, time_to_complete_quitting):\n",
    "    return 0\n",
    "\n",
    "def Activity(exposure_trigger, slope_to_maximal_microphage_activity, \n",
    "            persistence_after_quitting): \n",
    "    return 0\n",
    "\n",
    "E = interactive(Exposure, \n",
    "                age_of_onset = IntSlider(min=5,max=50,step=1,value=15), # years\n",
    "                maximal_consumption = FloatSlider(min=0.1,max=5,step=0.1,value=1.5), # packs/day\n",
    "                time_to_max_exposure = IntSlider(min=1,max=20,step=1,value=5), # years\n",
    "                age_of_quitting = IntSlider(min=5,max=130,step=1,value=130), # years, 130 is non-quitter\n",
    "                time_to_complete_quitting = IntSlider(min=5,max=130,step=1,value=130), # years, 130 is non-quitter\n",
    "               )\n",
    "display(E)\n",
    "\n",
    "A = interactive(Activity, \n",
    "                exposure_trigger = IntSlider(min= 0.1,max=1,step=0.1,value=0.3), # pack/day\n",
    "                slope_to_maximal_microphage_activity = FloatSlider(min=1,max=3,step=0.25,value=2), # \n",
    "                persistence_after_quitting = IntSlider(min=0,max=101,step=1,value=96) # % of Macrophage activity, 101 is non-quitter\n",
    "               )\n",
    "display(A)"
   ]
  },
  {
   "cell_type": "code",
   "execution_count": 10,
   "metadata": {
    "ExecuteTime": {
     "end_time": "2016-07-26T16:33:09.711080",
     "start_time": "2016-07-26T16:33:09.664031"
    },
    "collapsed": false
   },
   "outputs": [],
   "source": [
    "# E parameters\n",
    "E_max = E.kwargs['maximal_consumption']\n",
    "time_to_complete_quitting = E.kwargs['time_to_complete_quitting']\n",
    "time_to_max_exposure = E.kwargs['time_to_max_exposure']\n",
    "age_of_onset = E.kwargs['age_of_onset']\n",
    "age_of_quitting = E.kwargs['age_of_quitting']\n",
    "sigma_1 = time_to_max_exposure / 4\n",
    "sigma_2 = time_to_complete_quitting / 4\n",
    "t_1 = age_of_onset + 2 * sigma_1\n",
    "t_2 = age_of_quitting - 2 * sigma_1\n",
    "\n",
    "# A parameters\n",
    "exposure_trigger = A.kwargs['exposure_trigger']\n",
    "slope_to_maximal_microphage_activity = A.kwargs['slope_to_maximal_microphage_activity']\n",
    "persistence_after_quitting = A.kwargs['persistence_after_quitting']\n",
    "tau_A = 2\n",
    "A_inf = persistence_after_quitting / 100\n",
    "sigma_e = 0.25 * E_max / slope_to_maximal_microphage_activity\n",
    "E_1 = exposure_trigger + 2 * sigma_e\n",
    "    \n",
    "def E_t(t):\n",
    "    if (time_to_complete_quitting == 130 | age_of_quitting == 130):\n",
    "        return E_max * (1 / ( 1+exp( -(t-t_1)/sigma_1 ) ))  \n",
    "    else:\n",
    "        return E_max * (1 / ( 1+exp( -(t-t_1)/sigma_1 ) )) * (1 / ( 1+exp(  (t-t_2)/sigma_2 ) )) \n",
    "\n",
    "def A_ss(t):\n",
    "        return 1 / (1+exp( -(E_t(t)-E_1)/sigma_e ))  \n",
    "    \n",
    "def derivative_of_A(y, t):\n",
    "    return (-y + (1-A_inf)*A_ss(t) + A_inf) / tau_A"
   ]
  },
  {
   "cell_type": "code",
   "execution_count": 11,
   "metadata": {
    "ExecuteTime": {
     "end_time": "2016-07-26T16:33:09.905643",
     "start_time": "2016-07-26T16:33:09.901820"
    },
    "collapsed": false
   },
   "outputs": [],
   "source": [
    "years = arange(0,101,1)"
   ]
  },
  {
   "cell_type": "code",
   "execution_count": 12,
   "metadata": {
    "ExecuteTime": {
     "end_time": "2016-07-26T16:33:10.369772",
     "start_time": "2016-07-26T16:33:10.367010"
    },
    "collapsed": false
   },
   "outputs": [],
   "source": [
    "E_values = E_t(years)"
   ]
  },
  {
   "cell_type": "code",
   "execution_count": 20,
   "metadata": {
    "ExecuteTime": {
     "end_time": "2016-07-26T16:36:25.748965",
     "start_time": "2016-07-26T16:36:25.736462"
    },
    "collapsed": false
   },
   "outputs": [],
   "source": [
    "A_values = integrate.odeint(derivative_of_A, 0, years)"
   ]
  },
  {
   "cell_type": "code",
   "execution_count": 14,
   "metadata": {
    "ExecuteTime": {
     "end_time": "2016-07-26T16:33:12.076199",
     "start_time": "2016-07-26T16:33:11.839803"
    },
    "collapsed": false,
    "scrolled": true
   },
   "outputs": [
    {
     "data": {
      "text/plain": [
       "[<matplotlib.lines.Line2D at 0x7f42490063c8>]"
      ]
     },
     "execution_count": 14,
     "metadata": {},
     "output_type": "execute_result"
    },
    {
     "data": {
      "image/png": "[encoded data removed]",
      "text/plain": [
       "<matplotlib.figure.Figure at 0x7f42490e4780>"
      ]
     },
     "metadata": {},
     "output_type": "display_data"
    }
   ],
   "source": [
    "plt.plot(years, E_values) "
   ]
  },
  {
   "cell_type": "code",
   "execution_count": 19,
   "metadata": {
    "ExecuteTime": {
     "end_time": "2016-07-26T16:34:44.943516",
     "start_time": "2016-07-26T16:34:44.729701"
    },
    "collapsed": false,
    "scrolled": true
   },
   "outputs": [
    {
     "data": {
      "text/plain": [
       "(0, 1.1)"
      ]
     },
     "execution_count": 19,
     "metadata": {},
     "output_type": "execute_result"
    },
    {
     "data": {
      "image/png": "[encoded data removed]",
      "text/plain": [
       "<matplotlib.figure.Figure at 0x7f4248e81c18>"
      ]
     },
     "metadata": {},
     "output_type": "display_data"
    }
   ],
   "source": [
    "plt.plot(years, A_values)\n",
    "plt.ylim([0,1.1])"
   ]
  },
  {
   "cell_type": "markdown",
   "metadata": {
    "heading_collapsed": true
   },
   "source": [
    "# interactive Activity"
   ]
  },
  {
   "cell_type": "code",
   "execution_count": 31,
   "metadata": {
    "ExecuteTime": {
     "end_time": "2016-07-26T16:31:03.151486",
     "start_time": "2016-07-26T16:31:03.144349"
    },
    "code_folding": [],
    "collapsed": false,
    "hidden": true
   },
   "outputs": [],
   "source": [
    "def Activity_plot(exposure_trigger, slope_to_maximal_microphage_activity, \n",
    "            persistence_after_quitting): # Macrophage activity\n",
    "\n",
    "    A_values = integrate.odeint(derivative_of_A, 0, years)\n",
    "    plt.plot(years, A_values)    \n",
    "    plt.show()\n",
    "    return years, A_values"
   ]
  },
  {
   "cell_type": "code",
   "execution_count": 32,
   "metadata": {
    "ExecuteTime": {
     "end_time": "2016-07-26T16:31:04.130957",
     "start_time": "2016-07-26T16:31:03.865397"
    },
    "collapsed": false,
    "hidden": true
   },
   "outputs": [
    {
     "data": {
      "image/png": "[encoded data removed]",
      "text/plain": [
       "<matplotlib.figure.Figure at 0x7fd178e641d0>"
      ]
     },
     "metadata": {},
     "output_type": "display_data"
    },
    {
     "data": {
      "text/plain": [
       "(array([  0,   1,   2,   3,   4,   5,   6,   7,   8,   9,  10,  11,  12,\n",
       "         13,  14,  15,  16,  17,  18,  19,  20,  21,  22,  23,  24,  25,\n",
       "         26,  27,  28,  29,  30,  31,  32,  33,  34,  35,  36,  37,  38,\n",
       "         39,  40,  41,  42,  43,  44,  45,  46,  47,  48,  49,  50,  51,\n",
       "         52,  53,  54,  55,  56,  57,  58,  59,  60,  61,  62,  63,  64,\n",
       "         65,  66,  67,  68,  69,  70,  71,  72,  73,  74,  75,  76,  77,\n",
       "         78,  79,  80,  81,  82,  83,  84,  85,  86,  87,  88,  89,  90,\n",
       "         91,  92,  93,  94,  95,  96,  97,  98,  99, 100]),\n",
       " array([[ 0.        ],\n",
       "        [ 3.04353395],\n",
       "        [ 4.88952049],\n",
       "        [ 6.00914539],\n",
       "        [ 6.68818201],\n",
       "        [ 7.09992689],\n",
       "        [ 7.34941429],\n",
       "        [ 7.50018284],\n",
       "        [ 7.59039668],\n",
       "        [ 7.64236873],\n",
       "        [ 7.66776297],\n",
       "        [ 7.66943544],\n",
       "        [ 7.6394456 ],\n",
       "        [ 7.55006808],\n",
       "        [ 7.32701837],\n",
       "        [ 6.77095593],\n",
       "        [ 5.37434587],\n",
       "        [ 2.48097159],\n",
       "        [-1.1354053 ],\n",
       "        [-4.00786963],\n",
       "        [-5.90066091],\n",
       "        [-7.08416902],\n",
       "        [-7.81273094],\n",
       "        [-8.25855872],\n",
       "        [-8.53057074],\n",
       "        [-8.69624349],\n",
       "        [-8.79703247],\n",
       "        [-8.85829918],\n",
       "        [-8.89551977],\n",
       "        [-8.91812231],\n",
       "        [-8.93184362],\n",
       "        [-8.94017149],\n",
       "        [-8.94522505],\n",
       "        [-8.94829129],\n",
       "        [-8.95015155],\n",
       "        [-8.95128008],\n",
       "        [-8.95196467],\n",
       "        [-8.95237992],\n",
       "        [-8.95263182],\n",
       "        [-8.95278461],\n",
       "        [-8.95287728],\n",
       "        [-8.9529335 ],\n",
       "        [-8.9529676 ],\n",
       "        [-8.95298828],\n",
       "        [-8.95300082],\n",
       "        [-8.95300844],\n",
       "        [-8.95301305],\n",
       "        [-8.95301584],\n",
       "        [-8.95301754],\n",
       "        [-8.95301856],\n",
       "        [-8.95301919],\n",
       "        [-8.95301959],\n",
       "        [-8.95301981],\n",
       "        [-8.95301995],\n",
       "        [-8.95302003],\n",
       "        [-8.95302008],\n",
       "        [-8.95302011],\n",
       "        [-8.95302013],\n",
       "        [-8.95302014],\n",
       "        [-8.95302015],\n",
       "        [-8.95302015],\n",
       "        [-8.95302016],\n",
       "        [-8.95302016],\n",
       "        [-8.95302016],\n",
       "        [-8.95302016],\n",
       "        [-8.95302016],\n",
       "        [-8.95302016],\n",
       "        [-8.95302016],\n",
       "        [-8.95302016],\n",
       "        [-8.95302016],\n",
       "        [-8.95302016],\n",
       "        [-8.95302016],\n",
       "        [-8.95302016],\n",
       "        [-8.95302016],\n",
       "        [-8.95302016],\n",
       "        [-8.95302016],\n",
       "        [-8.95302016],\n",
       "        [-8.95302016],\n",
       "        [-8.95302016],\n",
       "        [-8.95302016],\n",
       "        [-8.95302016],\n",
       "        [-8.95302016],\n",
       "        [-8.95302016],\n",
       "        [-8.95302016],\n",
       "        [-8.95302016],\n",
       "        [-8.95302016],\n",
       "        [-8.95302016],\n",
       "        [-8.95302016],\n",
       "        [-8.95302016],\n",
       "        [-8.95302016],\n",
       "        [-8.95302016],\n",
       "        [-8.95302016],\n",
       "        [-8.95302016],\n",
       "        [-8.95302016],\n",
       "        [-8.95302016],\n",
       "        [-8.95302016],\n",
       "        [-8.95302016],\n",
       "        [-8.95302016],\n",
       "        [-8.95302016],\n",
       "        [-8.95302016],\n",
       "        [-8.95302016]]))"
      ]
     },
     "metadata": {},
     "output_type": "display_data"
    }
   ],
   "source": [
    "A = interactive(Activity_plot, \n",
    "                exposure_trigger = IntSlider(min= 0.1,max=1,step=0.1,value=0.3), # pack/day\n",
    "                slope_to_maximal_microphage_activity = FloatSlider(min=1,max=3,step=0.25,value=2), # \n",
    "                persistence_after_quitting = IntSlider(min=0,max=101,step=1,value=96) # % of Macrophage activity, 101 is non-quitter\n",
    "               )\n",
    "display(A)"
   ]
  },
  {
   "cell_type": "code",
   "execution_count": null,
   "metadata": {
    "collapsed": true,
    "hidden": true
   },
   "outputs": [],
   "source": []
  }
 ],
 "metadata": {
  "anaconda-cloud": {},
  "hide_input": false,
  "kernelspec": {
   "display_name": "Python [Root]",
   "language": "python",
   "name": "Python [Root]"
  },
  "language_info": {
   "codemirror_mode": {
    "name": "ipython",
    "version": 3
   },
   "file_extension": ".py",
   "mimetype": "text/x-python",
   "name": "python",
   "nbconvert_exporter": "python",
   "pygments_lexer": "ipython3",
   "version": "3.5.2"
  },
  "toc": {
   "toc_cell": false,
   "toc_number_sections": true,
   "toc_threshold": 6,
   "toc_window_display": false
  }
 },
 "nbformat": 4,
 "nbformat_minor": 0
}
